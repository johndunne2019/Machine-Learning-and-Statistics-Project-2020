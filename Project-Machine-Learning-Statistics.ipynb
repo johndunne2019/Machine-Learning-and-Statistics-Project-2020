{
 "cells": [
  {
   "cell_type": "markdown",
   "metadata": {},
   "source": [
    "# Machine Learning and Statistics Module 2020 Project\n",
    "\n",
    "## Author John Dunne G00273895\n",
    "\n",
    "*****************************************************************************\n"
   ]
  },
  {
   "cell_type": "markdown",
   "metadata": {},
   "source": [
    "### Project Specification\n",
    "\n",
    "#### Instructions\n",
    "\n",
    "\n",
    "In this project you must create a web service that uses machine learning to make predictions based on the data set powerproduction available on Moodle. The goal is to\n",
    "produce a model that accurately predicts wind turbine power output from wind speed\n",
    "values, as in the data set. You must then develop a web service that will respond with\n",
    "predicted power values based on speed values sent as HTTP requests. Your submission\n",
    "must be in the form of a git repository containing, at a minimum, the following items:\n",
    "1. Jupyter notebook that trains a model using the data set. In the notebook you\n",
    "should explain your model and give an analysis of its accuracy.\n",
    "2. Python script that runs a web service based on the model, as above.\n",
    "3. Dockerfile to build and run the web service in a container.\n",
    "4. Standard items in a git repository such as a README.\n",
    "\n",
    "\n",
    "To enhance your submission, you might consider developing and comparing more than\n",
    "one model. Rest assured, all the above concepts will be explored in lecture videos and\n",
    "other materials in the coming semester.\n"
   ]
  },
  {
   "cell_type": "markdown",
   "metadata": {},
   "source": [
    "### Plan to complete the project\n",
    "\n",
    "* Introduce myself to the contents of the power production data set.\n",
    "* Include an introduction to the dataset in this notebook.\n",
    "* Include some statistical analysis od the data set and some plots of the data set. \n",
    "* Research models that could be trained on the data set. \n",
    "* Pick a model and train it on the data set in this notebook. \n",
    "* Explain the model and give an analysis of its accuracy in this notebook. \n",
    "* Include a python script in my repository that runs a web service based on the model. \n",
    "* Design a user interface from where an end user can send a speed value via HTTP request and receive a response prediction based on the model of power production for that wind speed.\n",
    "* If time permits train more than one model in this notebook."
   ]
  },
  {
   "cell_type": "markdown",
   "metadata": {},
   "source": [
    "## Import the packages to be used in the project"
   ]
  },
  {
   "cell_type": "code",
   "execution_count": 1,
   "metadata": {},
   "outputs": [],
   "source": [
    "# Numerical arrays\n",
    "import numpy as np\n",
    "\n",
    "# pandas imported to read in the csv and display in a pandas dataframe\n",
    "import pandas as pd \n",
    "\n",
    "# matplotlib pyplot will be used for plotting the data set\n",
    "import matplotlib.pyplot as plt\n",
    "\n",
    "# plots\n",
    "import seaborn as sns\n",
    "\n",
    "# Neural networks\n",
    "import tensorflow.keras as kr "
   ]
  },
  {
   "cell_type": "markdown",
   "metadata": {},
   "source": [
    "# Section 1 - Introduction to the Power Production dataset\n",
    "**********\n",
    "\n",
    "A brief introduction to the data set including some statistical analysis and plots."
   ]
  },
  {
   "cell_type": "markdown",
   "metadata": {},
   "source": [
    "### 1.1 - Reading in the powerproduction dataset csv and displaying as a pandas dataframe\n",
    "\n",
    "pandas.read_csv is used to read comma separated value files into a dataframe [1]."
   ]
  },
  {
   "cell_type": "code",
   "execution_count": 2,
   "metadata": {},
   "outputs": [
    {
     "data": {
      "text/html": [
       "<div>\n",
       "<style scoped>\n",
       "    .dataframe tbody tr th:only-of-type {\n",
       "        vertical-align: middle;\n",
       "    }\n",
       "\n",
       "    .dataframe tbody tr th {\n",
       "        vertical-align: top;\n",
       "    }\n",
       "\n",
       "    .dataframe thead th {\n",
       "        text-align: right;\n",
       "    }\n",
       "</style>\n",
       "<table border=\"1\" class=\"dataframe\">\n",
       "  <thead>\n",
       "    <tr style=\"text-align: right;\">\n",
       "      <th></th>\n",
       "      <th>speed</th>\n",
       "      <th>power</th>\n",
       "    </tr>\n",
       "  </thead>\n",
       "  <tbody>\n",
       "    <tr>\n",
       "      <th>0</th>\n",
       "      <td>0.000</td>\n",
       "      <td>0.0</td>\n",
       "    </tr>\n",
       "    <tr>\n",
       "      <th>1</th>\n",
       "      <td>0.125</td>\n",
       "      <td>0.0</td>\n",
       "    </tr>\n",
       "    <tr>\n",
       "      <th>2</th>\n",
       "      <td>0.150</td>\n",
       "      <td>0.0</td>\n",
       "    </tr>\n",
       "    <tr>\n",
       "      <th>3</th>\n",
       "      <td>0.225</td>\n",
       "      <td>0.0</td>\n",
       "    </tr>\n",
       "    <tr>\n",
       "      <th>4</th>\n",
       "      <td>0.275</td>\n",
       "      <td>0.0</td>\n",
       "    </tr>\n",
       "    <tr>\n",
       "      <th>...</th>\n",
       "      <td>...</td>\n",
       "      <td>...</td>\n",
       "    </tr>\n",
       "    <tr>\n",
       "      <th>495</th>\n",
       "      <td>24.775</td>\n",
       "      <td>0.0</td>\n",
       "    </tr>\n",
       "    <tr>\n",
       "      <th>496</th>\n",
       "      <td>24.850</td>\n",
       "      <td>0.0</td>\n",
       "    </tr>\n",
       "    <tr>\n",
       "      <th>497</th>\n",
       "      <td>24.875</td>\n",
       "      <td>0.0</td>\n",
       "    </tr>\n",
       "    <tr>\n",
       "      <th>498</th>\n",
       "      <td>24.950</td>\n",
       "      <td>0.0</td>\n",
       "    </tr>\n",
       "    <tr>\n",
       "      <th>499</th>\n",
       "      <td>25.000</td>\n",
       "      <td>0.0</td>\n",
       "    </tr>\n",
       "  </tbody>\n",
       "</table>\n",
       "<p>500 rows × 2 columns</p>\n",
       "</div>"
      ],
      "text/plain": [
       "      speed  power\n",
       "0     0.000    0.0\n",
       "1     0.125    0.0\n",
       "2     0.150    0.0\n",
       "3     0.225    0.0\n",
       "4     0.275    0.0\n",
       "..      ...    ...\n",
       "495  24.775    0.0\n",
       "496  24.850    0.0\n",
       "497  24.875    0.0\n",
       "498  24.950    0.0\n",
       "499  25.000    0.0\n",
       "\n",
       "[500 rows x 2 columns]"
      ]
     },
     "execution_count": 2,
     "metadata": {},
     "output_type": "execute_result"
    }
   ],
   "source": [
    "# read in the data set with pandas from my repository\n",
    "df = pd.read_csv(\"powerproduction.csv\")\n",
    "# display the datas set\n",
    "df"
   ]
  },
  {
   "cell_type": "markdown",
   "metadata": {},
   "source": [
    "### 1.2 Some Statistical Analysis with pandas"
   ]
  },
  {
   "cell_type": "markdown",
   "metadata": {},
   "source": [
    "#### Dataframe.info()\n",
    "\n",
    "Dataframe.info prints a concise summary about a dataframe [2]."
   ]
  },
  {
   "cell_type": "code",
   "execution_count": 3,
   "metadata": {},
   "outputs": [
    {
     "name": "stdout",
     "output_type": "stream",
     "text": [
      "<class 'pandas.core.frame.DataFrame'>\n",
      "RangeIndex: 500 entries, 0 to 499\n",
      "Data columns (total 2 columns):\n",
      " #   Column  Non-Null Count  Dtype  \n",
      "---  ------  --------------  -----  \n",
      " 0   speed   500 non-null    float64\n",
      " 1   power   500 non-null    float64\n",
      "dtypes: float64(2)\n",
      "memory usage: 7.9 KB\n"
     ]
    }
   ],
   "source": [
    "df.info()"
   ]
  },
  {
   "cell_type": "markdown",
   "metadata": {},
   "source": [
    "#### Dataframe.shape\n",
    "\n",
    "Dataframe.shape returns a table that shows the number of rows and columns in a dataframe [3]."
   ]
  },
  {
   "cell_type": "code",
   "execution_count": 4,
   "metadata": {},
   "outputs": [
    {
     "data": {
      "text/plain": [
       "(500, 2)"
      ]
     },
     "execution_count": 4,
     "metadata": {},
     "output_type": "execute_result"
    }
   ],
   "source": [
    "df.shape"
   ]
  },
  {
   "cell_type": "markdown",
   "metadata": {},
   "source": [
    "#### Dataframe.describe()\n",
    "\n",
    "Dataframe.describe prints a description of each column of data in the data set [4].\n",
    "\n",
    "**Output of pandas.dataframe.describe() explained:**\n",
    "\n",
    "* count = total number of rows of data in the data set.\n",
    "* mean = the central tendency of the data.\n",
    "* std = standard deviation which is a measurement of the variance of each data point relative to the mean.\n",
    "* min = the smallest figure collected in each column of data.\n",
    "* 25% = the 25th percentile - meaning 25% of the total count of measurements collected fall below this measurement.\n",
    "* 50% = the 50th or median percentile meaning this is the central collected in each column, half of the data collected falls below this measurement and half is above this measurement. Further details on how percentile is calculated can be read here: https://www.statisticshowto.datasciencecentral.com/probability-and-statistics/percentiles-rank-range/.\n",
    "* 75% = the 75th percentile - meaning 75% of the total count of measurements collected fall below this measurement and 25% are above this measurement.\n",
    "* max = the largest measurement collected kin each column of data."
   ]
  },
  {
   "cell_type": "code",
   "execution_count": 5,
   "metadata": {},
   "outputs": [
    {
     "data": {
      "text/html": [
       "<div>\n",
       "<style scoped>\n",
       "    .dataframe tbody tr th:only-of-type {\n",
       "        vertical-align: middle;\n",
       "    }\n",
       "\n",
       "    .dataframe tbody tr th {\n",
       "        vertical-align: top;\n",
       "    }\n",
       "\n",
       "    .dataframe thead th {\n",
       "        text-align: right;\n",
       "    }\n",
       "</style>\n",
       "<table border=\"1\" class=\"dataframe\">\n",
       "  <thead>\n",
       "    <tr style=\"text-align: right;\">\n",
       "      <th></th>\n",
       "      <th>speed</th>\n",
       "      <th>power</th>\n",
       "    </tr>\n",
       "  </thead>\n",
       "  <tbody>\n",
       "    <tr>\n",
       "      <th>count</th>\n",
       "      <td>500.000000</td>\n",
       "      <td>500.000000</td>\n",
       "    </tr>\n",
       "    <tr>\n",
       "      <th>mean</th>\n",
       "      <td>12.590398</td>\n",
       "      <td>48.014584</td>\n",
       "    </tr>\n",
       "    <tr>\n",
       "      <th>std</th>\n",
       "      <td>7.224991</td>\n",
       "      <td>41.614572</td>\n",
       "    </tr>\n",
       "    <tr>\n",
       "      <th>min</th>\n",
       "      <td>0.000000</td>\n",
       "      <td>0.000000</td>\n",
       "    </tr>\n",
       "    <tr>\n",
       "      <th>25%</th>\n",
       "      <td>6.324750</td>\n",
       "      <td>5.288000</td>\n",
       "    </tr>\n",
       "    <tr>\n",
       "      <th>50%</th>\n",
       "      <td>12.550500</td>\n",
       "      <td>41.645500</td>\n",
       "    </tr>\n",
       "    <tr>\n",
       "      <th>75%</th>\n",
       "      <td>18.775250</td>\n",
       "      <td>93.537000</td>\n",
       "    </tr>\n",
       "    <tr>\n",
       "      <th>max</th>\n",
       "      <td>25.000000</td>\n",
       "      <td>113.556000</td>\n",
       "    </tr>\n",
       "  </tbody>\n",
       "</table>\n",
       "</div>"
      ],
      "text/plain": [
       "            speed       power\n",
       "count  500.000000  500.000000\n",
       "mean    12.590398   48.014584\n",
       "std      7.224991   41.614572\n",
       "min      0.000000    0.000000\n",
       "25%      6.324750    5.288000\n",
       "50%     12.550500   41.645500\n",
       "75%     18.775250   93.537000\n",
       "max     25.000000  113.556000"
      ]
     },
     "execution_count": 5,
     "metadata": {},
     "output_type": "execute_result"
    }
   ],
   "source": [
    "df.describe()"
   ]
  },
  {
   "cell_type": "markdown",
   "metadata": {},
   "source": [
    "### 1.3 - Plot the powerproduction data set\n",
    "\n",
    "### 1.3.1 - matplotlib.pyplot\n",
    "\n",
    "I will use matplotlib.pyplot to display a plot of the data in the data set [5] customized with some rcParams commands [6]."
   ]
  },
  {
   "cell_type": "code",
   "execution_count": 6,
   "metadata": {},
   "outputs": [
    {
     "data": {
      "image/png": "[encoded data removed]",
      "text/plain": [
       "<Figure size 1440x720 with 1 Axes>"
      ]
     },
     "metadata": {
      "needs_background": "light"
     },
     "output_type": "display_data"
    }
   ],
   "source": [
    "# rc params to customize plot appearance: https://matplotlib.org/tutorials/introductory/customizing.html\n",
    "plt.rcParams['figure.figsize'] = (20, 10)\n",
    "plt.rcParams['lines.linewidth'] = 2.5\n",
    "\n",
    "#matplotlib.pyplot used to plot speed and power from the data set\n",
    "# .b calls for blue dots in the plot\n",
    "plt.plot(df['speed'], df['power'], '.b')\n",
    "# add a title to the plot\n",
    "plt.title('Visualisation of the powerproduction data set', fontsize=20)\n",
    "# add labels to the x and y axis\n",
    "plt.xlabel('Speed', fontsize=18)\n",
    "plt.ylabel('Power', fontsize=18)\n",
    "# display grid on the plot\n",
    "plt.grid()\n",
    "# show the plot\n",
    "plt.show()\n"
   ]
  },
  {
   "cell_type": "markdown",
   "metadata": {},
   "source": [
    "### 1.3.2 - Seaborn\n",
    "\n",
    "#### Seaborn Pairplot\n",
    "\n",
    "Pairplot is used to plot the relationship between variables in a data set. The pairplot function by default plots each variable on the y axis across a single row and the x axis across a single column. Pairplot can read in a data set from pandas df (data frame). The argument hue can be entered to add colour to the plot based on another variable in the data set [7]."
   ]
  },
  {
   "cell_type": "code",
   "execution_count": 7,
   "metadata": {},
   "outputs": [
    {
     "data": {
      "text/plain": [
       "<seaborn.axisgrid.PairGrid at 0x1c61dbf3430>"
      ]
     },
     "execution_count": 7,
     "metadata": {},
     "output_type": "execute_result"
    },
    {
     "data": {
      "image/png": "[encoded data removed]",
      "text/plain": [
       "<Figure size 360x360 with 6 Axes>"
      ]
     },
     "metadata": {
      "needs_background": "light"
     },
     "output_type": "display_data"
    }
   ],
   "source": [
    "sns.pairplot(df)"
   ]
  },
  {
   "cell_type": "markdown",
   "metadata": {},
   "source": [
    "With Seaborn pairplot a histogram is plotted by default but this can be changed by adding the diag_kind parameter which can take 3 different parameters:\n",
    "\n",
    "* hist - plots a histogram \n",
    "* kde - density plot \n",
    "* auto - the default when hue is selected is denisty, and if hue not selected them histogram"
   ]
  },
  {
   "cell_type": "code",
   "execution_count": 8,
   "metadata": {},
   "outputs": [
    {
     "data": {
      "text/plain": [
       "<seaborn.axisgrid.PairGrid at 0x1c61e764220>"
      ]
     },
     "execution_count": 8,
     "metadata": {},
     "output_type": "execute_result"
    },
    {
     "data": {
      "image/png": "[encoded data removed]",
      "text/plain": [
       "<Figure size 360x360 with 6 Axes>"
      ]
     },
     "metadata": {
      "needs_background": "light"
     },
     "output_type": "display_data"
    }
   ],
   "source": [
    "sns.pairplot(df, diag_kind = 'kde')"
   ]
  },
  {
   "cell_type": "markdown",
   "metadata": {},
   "source": [
    "### What do the above plots say about the data?\n",
    "\n",
    "* It looks like there are instances where zero power is generated despite high wind speeds. Possibly maintenance on the turbine caused it to be stopped at certain times.\n",
    "* It looks to me that their is a linear relationship between wind speed and power production. The greater the wind speed the more power is produced. This is what I would have expected without looking at any data. \n",
    "* I would think the owners of the turbine though would want any downtime and maintenance etc factored into any forecast for future power production. \n",
    "* I find the pyplot gives a very good visual representation of the data and I increased the size using rcparams in order to get a better look at the data points.\n",
    "* For the most part it looks like the higher the wind speed the more power we could expect to be generated by the turbine. \n",
    "* The amount of power generated seems to increase sharply once wind speed of over 10mph are reached. \n",
    "* This seems to plateau between 20 and 25 mph wind speed.\n",
    "* Why does this happen? Maybe I can answer the question later. "
   ]
  },
  {
   "cell_type": "markdown",
   "metadata": {},
   "source": [
    "### Section 1 References\n",
    "\n",
    "[1] pandas; pandas.read_csv; https://pandas.pydata.org/pandas-docs/stable/reference/api/pandas.read_csv.html\n",
    "\n",
    "[2] pandas; pandas.dataframe.info; https://pandas.pydata.org/pandas-docs/stable/reference/api/pandas.DataFrame.info.html\n",
    "\n",
    "[3] pandas; pandas.dataframe.shape; https://pandas.pydata.org/pandas-docs/stable/reference/api/pandas.DataFrame.shape.html\n",
    "\n",
    "[4] pandas; pandas.dataframe.describe; https://pandas.pydata.org/pandas-docs/stable/reference/api/pandas.DataFrame.describe.html\n",
    "\n",
    "[5] matplotlib; matplotlib.pyplot documentation; https://matplotlib.org/3.2.1/api/_as_gen/matplotlib.pyplot.plot.html#matplotlib.pyplot.plot\n",
    "\n",
    "[6] matplotlib; Customizing Matplotlib with style sheets and rcParams; https://matplotlib.org/tutorials/introductory/customizing.html\n",
    "\n",
    "[7] Seaborn, pairplot; https://seaborn.pydata.org/generated/seaborn.pairplot.html\n",
    "\n",
    "[8] Towards data science; Visualizing data with pairplots in Python; https://towardsdatascience.com/visualizing-data-with-pair-plots-in-python-f228cf529166 "
   ]
  },
  {
   "cell_type": "markdown",
   "metadata": {},
   "source": [
    "# Section 2 - Preprocessing the data set before training a model\n",
    "****"
   ]
  },
  {
   "cell_type": "markdown",
   "metadata": {},
   "source": [
    "One of the most important steps to be taken before proceeding is the pre processing of the data. As I have shown in the plots in section 1 of this notebook there are lots of zero values in the data set for power. I thin we can remove these, there are probably explanations for these zero's such as maintenance etc. \n",
    "\n",
    "Data cleaning refers to identifying and correcting errors in the dataset that may negatively impact a predictive model [2].\n",
    "\n"
   ]
  },
  {
   "cell_type": "markdown",
   "metadata": {},
   "source": [
    "### How many zero values are in the dataset?\n",
    "\n",
    "Speed column:"
   ]
  },
  {
   "cell_type": "code",
   "execution_count": 9,
   "metadata": {},
   "outputs": [
    {
     "data": {
      "text/html": [
       "<div>\n",
       "<style scoped>\n",
       "    .dataframe tbody tr th:only-of-type {\n",
       "        vertical-align: middle;\n",
       "    }\n",
       "\n",
       "    .dataframe tbody tr th {\n",
       "        vertical-align: top;\n",
       "    }\n",
       "\n",
       "    .dataframe thead th {\n",
       "        text-align: right;\n",
       "    }\n",
       "</style>\n",
       "<table border=\"1\" class=\"dataframe\">\n",
       "  <thead>\n",
       "    <tr style=\"text-align: right;\">\n",
       "      <th></th>\n",
       "      <th>speed</th>\n",
       "      <th>power</th>\n",
       "    </tr>\n",
       "  </thead>\n",
       "  <tbody>\n",
       "    <tr>\n",
       "      <th>0</th>\n",
       "      <td>0.0</td>\n",
       "      <td>0.0</td>\n",
       "    </tr>\n",
       "  </tbody>\n",
       "</table>\n",
       "</div>"
      ],
      "text/plain": [
       "   speed  power\n",
       "0    0.0    0.0"
      ]
     },
     "execution_count": 9,
     "metadata": {},
     "output_type": "execute_result"
    }
   ],
   "source": [
    "df0 = df[df[\"speed\"] == 0]\n",
    "df0"
   ]
  },
  {
   "cell_type": "code",
   "execution_count": 10,
   "metadata": {},
   "outputs": [
    {
     "data": {
      "text/plain": [
       "speed    1\n",
       "power    1\n",
       "dtype: int64"
      ]
     },
     "execution_count": 10,
     "metadata": {},
     "output_type": "execute_result"
    }
   ],
   "source": [
    "df0.count()"
   ]
  },
  {
   "cell_type": "markdown",
   "metadata": {},
   "source": [
    "Power column:"
   ]
  },
  {
   "cell_type": "code",
   "execution_count": 11,
   "metadata": {},
   "outputs": [
    {
     "data": {
      "text/html": [
       "<div>\n",
       "<style scoped>\n",
       "    .dataframe tbody tr th:only-of-type {\n",
       "        vertical-align: middle;\n",
       "    }\n",
       "\n",
       "    .dataframe tbody tr th {\n",
       "        vertical-align: top;\n",
       "    }\n",
       "\n",
       "    .dataframe thead th {\n",
       "        text-align: right;\n",
       "    }\n",
       "</style>\n",
       "<table border=\"1\" class=\"dataframe\">\n",
       "  <thead>\n",
       "    <tr style=\"text-align: right;\">\n",
       "      <th></th>\n",
       "      <th>speed</th>\n",
       "      <th>power</th>\n",
       "    </tr>\n",
       "  </thead>\n",
       "  <tbody>\n",
       "    <tr>\n",
       "      <th>0</th>\n",
       "      <td>0.000</td>\n",
       "      <td>0.0</td>\n",
       "    </tr>\n",
       "    <tr>\n",
       "      <th>1</th>\n",
       "      <td>0.125</td>\n",
       "      <td>0.0</td>\n",
       "    </tr>\n",
       "    <tr>\n",
       "      <th>2</th>\n",
       "      <td>0.150</td>\n",
       "      <td>0.0</td>\n",
       "    </tr>\n",
       "    <tr>\n",
       "      <th>3</th>\n",
       "      <td>0.225</td>\n",
       "      <td>0.0</td>\n",
       "    </tr>\n",
       "    <tr>\n",
       "      <th>4</th>\n",
       "      <td>0.275</td>\n",
       "      <td>0.0</td>\n",
       "    </tr>\n",
       "    <tr>\n",
       "      <th>15</th>\n",
       "      <td>0.726</td>\n",
       "      <td>0.0</td>\n",
       "    </tr>\n",
       "    <tr>\n",
       "      <th>16</th>\n",
       "      <td>0.751</td>\n",
       "      <td>0.0</td>\n",
       "    </tr>\n",
       "    <tr>\n",
       "      <th>24</th>\n",
       "      <td>1.026</td>\n",
       "      <td>0.0</td>\n",
       "    </tr>\n",
       "    <tr>\n",
       "      <th>26</th>\n",
       "      <td>1.076</td>\n",
       "      <td>0.0</td>\n",
       "    </tr>\n",
       "    <tr>\n",
       "      <th>31</th>\n",
       "      <td>1.301</td>\n",
       "      <td>0.0</td>\n",
       "    </tr>\n",
       "    <tr>\n",
       "      <th>35</th>\n",
       "      <td>1.552</td>\n",
       "      <td>0.0</td>\n",
       "    </tr>\n",
       "    <tr>\n",
       "      <th>37</th>\n",
       "      <td>1.677</td>\n",
       "      <td>0.0</td>\n",
       "    </tr>\n",
       "    <tr>\n",
       "      <th>39</th>\n",
       "      <td>1.827</td>\n",
       "      <td>0.0</td>\n",
       "    </tr>\n",
       "    <tr>\n",
       "      <th>42</th>\n",
       "      <td>2.027</td>\n",
       "      <td>0.0</td>\n",
       "    </tr>\n",
       "    <tr>\n",
       "      <th>43</th>\n",
       "      <td>2.077</td>\n",
       "      <td>0.0</td>\n",
       "    </tr>\n",
       "    <tr>\n",
       "      <th>44</th>\n",
       "      <td>2.102</td>\n",
       "      <td>0.0</td>\n",
       "    </tr>\n",
       "    <tr>\n",
       "      <th>47</th>\n",
       "      <td>2.252</td>\n",
       "      <td>0.0</td>\n",
       "    </tr>\n",
       "    <tr>\n",
       "      <th>60</th>\n",
       "      <td>3.128</td>\n",
       "      <td>0.0</td>\n",
       "    </tr>\n",
       "    <tr>\n",
       "      <th>65</th>\n",
       "      <td>3.504</td>\n",
       "      <td>0.0</td>\n",
       "    </tr>\n",
       "    <tr>\n",
       "      <th>67</th>\n",
       "      <td>3.579</td>\n",
       "      <td>0.0</td>\n",
       "    </tr>\n",
       "    <tr>\n",
       "      <th>70</th>\n",
       "      <td>3.679</td>\n",
       "      <td>0.0</td>\n",
       "    </tr>\n",
       "    <tr>\n",
       "      <th>73</th>\n",
       "      <td>3.779</td>\n",
       "      <td>0.0</td>\n",
       "    </tr>\n",
       "    <tr>\n",
       "      <th>74</th>\n",
       "      <td>3.804</td>\n",
       "      <td>0.0</td>\n",
       "    </tr>\n",
       "    <tr>\n",
       "      <th>75</th>\n",
       "      <td>3.879</td>\n",
       "      <td>0.0</td>\n",
       "    </tr>\n",
       "    <tr>\n",
       "      <th>83</th>\n",
       "      <td>4.429</td>\n",
       "      <td>0.0</td>\n",
       "    </tr>\n",
       "    <tr>\n",
       "      <th>89</th>\n",
       "      <td>4.880</td>\n",
       "      <td>0.0</td>\n",
       "    </tr>\n",
       "    <tr>\n",
       "      <th>105</th>\n",
       "      <td>5.556</td>\n",
       "      <td>0.0</td>\n",
       "    </tr>\n",
       "    <tr>\n",
       "      <th>110</th>\n",
       "      <td>5.781</td>\n",
       "      <td>0.0</td>\n",
       "    </tr>\n",
       "    <tr>\n",
       "      <th>111</th>\n",
       "      <td>5.806</td>\n",
       "      <td>0.0</td>\n",
       "    </tr>\n",
       "    <tr>\n",
       "      <th>114</th>\n",
       "      <td>5.931</td>\n",
       "      <td>0.0</td>\n",
       "    </tr>\n",
       "    <tr>\n",
       "      <th>133</th>\n",
       "      <td>6.782</td>\n",
       "      <td>0.0</td>\n",
       "    </tr>\n",
       "    <tr>\n",
       "      <th>135</th>\n",
       "      <td>6.857</td>\n",
       "      <td>0.0</td>\n",
       "    </tr>\n",
       "    <tr>\n",
       "      <th>136</th>\n",
       "      <td>6.957</td>\n",
       "      <td>0.0</td>\n",
       "    </tr>\n",
       "    <tr>\n",
       "      <th>140</th>\n",
       "      <td>7.107</td>\n",
       "      <td>0.0</td>\n",
       "    </tr>\n",
       "    <tr>\n",
       "      <th>149</th>\n",
       "      <td>7.432</td>\n",
       "      <td>0.0</td>\n",
       "    </tr>\n",
       "    <tr>\n",
       "      <th>208</th>\n",
       "      <td>10.511</td>\n",
       "      <td>0.0</td>\n",
       "    </tr>\n",
       "    <tr>\n",
       "      <th>340</th>\n",
       "      <td>17.167</td>\n",
       "      <td>0.0</td>\n",
       "    </tr>\n",
       "    <tr>\n",
       "      <th>404</th>\n",
       "      <td>20.095</td>\n",
       "      <td>0.0</td>\n",
       "    </tr>\n",
       "    <tr>\n",
       "      <th>456</th>\n",
       "      <td>22.998</td>\n",
       "      <td>0.0</td>\n",
       "    </tr>\n",
       "    <tr>\n",
       "      <th>490</th>\n",
       "      <td>24.499</td>\n",
       "      <td>0.0</td>\n",
       "    </tr>\n",
       "    <tr>\n",
       "      <th>491</th>\n",
       "      <td>24.525</td>\n",
       "      <td>0.0</td>\n",
       "    </tr>\n",
       "    <tr>\n",
       "      <th>492</th>\n",
       "      <td>24.575</td>\n",
       "      <td>0.0</td>\n",
       "    </tr>\n",
       "    <tr>\n",
       "      <th>493</th>\n",
       "      <td>24.650</td>\n",
       "      <td>0.0</td>\n",
       "    </tr>\n",
       "    <tr>\n",
       "      <th>494</th>\n",
       "      <td>24.750</td>\n",
       "      <td>0.0</td>\n",
       "    </tr>\n",
       "    <tr>\n",
       "      <th>495</th>\n",
       "      <td>24.775</td>\n",
       "      <td>0.0</td>\n",
       "    </tr>\n",
       "    <tr>\n",
       "      <th>496</th>\n",
       "      <td>24.850</td>\n",
       "      <td>0.0</td>\n",
       "    </tr>\n",
       "    <tr>\n",
       "      <th>497</th>\n",
       "      <td>24.875</td>\n",
       "      <td>0.0</td>\n",
       "    </tr>\n",
       "    <tr>\n",
       "      <th>498</th>\n",
       "      <td>24.950</td>\n",
       "      <td>0.0</td>\n",
       "    </tr>\n",
       "    <tr>\n",
       "      <th>499</th>\n",
       "      <td>25.000</td>\n",
       "      <td>0.0</td>\n",
       "    </tr>\n",
       "  </tbody>\n",
       "</table>\n",
       "</div>"
      ],
      "text/plain": [
       "      speed  power\n",
       "0     0.000    0.0\n",
       "1     0.125    0.0\n",
       "2     0.150    0.0\n",
       "3     0.225    0.0\n",
       "4     0.275    0.0\n",
       "15    0.726    0.0\n",
       "16    0.751    0.0\n",
       "24    1.026    0.0\n",
       "26    1.076    0.0\n",
       "31    1.301    0.0\n",
       "35    1.552    0.0\n",
       "37    1.677    0.0\n",
       "39    1.827    0.0\n",
       "42    2.027    0.0\n",
       "43    2.077    0.0\n",
       "44    2.102    0.0\n",
       "47    2.252    0.0\n",
       "60    3.128    0.0\n",
       "65    3.504    0.0\n",
       "67    3.579    0.0\n",
       "70    3.679    0.0\n",
       "73    3.779    0.0\n",
       "74    3.804    0.0\n",
       "75    3.879    0.0\n",
       "83    4.429    0.0\n",
       "89    4.880    0.0\n",
       "105   5.556    0.0\n",
       "110   5.781    0.0\n",
       "111   5.806    0.0\n",
       "114   5.931    0.0\n",
       "133   6.782    0.0\n",
       "135   6.857    0.0\n",
       "136   6.957    0.0\n",
       "140   7.107    0.0\n",
       "149   7.432    0.0\n",
       "208  10.511    0.0\n",
       "340  17.167    0.0\n",
       "404  20.095    0.0\n",
       "456  22.998    0.0\n",
       "490  24.499    0.0\n",
       "491  24.525    0.0\n",
       "492  24.575    0.0\n",
       "493  24.650    0.0\n",
       "494  24.750    0.0\n",
       "495  24.775    0.0\n",
       "496  24.850    0.0\n",
       "497  24.875    0.0\n",
       "498  24.950    0.0\n",
       "499  25.000    0.0"
      ]
     },
     "execution_count": 11,
     "metadata": {},
     "output_type": "execute_result"
    }
   ],
   "source": [
    "df_power_0 = df[df[\"power\"] == 0]\n",
    "df_power_0"
   ]
  },
  {
   "cell_type": "code",
   "execution_count": 12,
   "metadata": {},
   "outputs": [
    {
     "data": {
      "text/plain": [
       "speed    49\n",
       "power    49\n",
       "dtype: int64"
      ]
     },
     "execution_count": 12,
     "metadata": {},
     "output_type": "execute_result"
    }
   ],
   "source": [
    "df_power_0.count()"
   ]
  },
  {
   "cell_type": "markdown",
   "metadata": {},
   "source": [
    "So there are 49 zero values in the power column, which includes that one column containing a zero value for speed I showed before. I think the best thing is to remove all of these 49 rows of data from the data set. I dont think they add value."
   ]
  },
  {
   "cell_type": "markdown",
   "metadata": {},
   "source": [
    "### Drop all rows that have zero values for both speed and power\n",
    "\n",
    "I have found a StackOverflow post on dropping rows in a pandas dataframe where there are zero values [4].\n",
    "\n",
    "Below I drop the 49 rows where we have zero values."
   ]
  },
  {
   "cell_type": "code",
   "execution_count": 13,
   "metadata": {},
   "outputs": [
    {
     "data": {
      "text/html": [
       "<div>\n",
       "<style scoped>\n",
       "    .dataframe tbody tr th:only-of-type {\n",
       "        vertical-align: middle;\n",
       "    }\n",
       "\n",
       "    .dataframe tbody tr th {\n",
       "        vertical-align: top;\n",
       "    }\n",
       "\n",
       "    .dataframe thead th {\n",
       "        text-align: right;\n",
       "    }\n",
       "</style>\n",
       "<table border=\"1\" class=\"dataframe\">\n",
       "  <thead>\n",
       "    <tr style=\"text-align: right;\">\n",
       "      <th></th>\n",
       "      <th>speed</th>\n",
       "      <th>power</th>\n",
       "    </tr>\n",
       "  </thead>\n",
       "  <tbody>\n",
       "    <tr>\n",
       "      <th>5</th>\n",
       "      <td>0.325</td>\n",
       "      <td>4.331</td>\n",
       "    </tr>\n",
       "    <tr>\n",
       "      <th>6</th>\n",
       "      <td>0.400</td>\n",
       "      <td>5.186</td>\n",
       "    </tr>\n",
       "    <tr>\n",
       "      <th>7</th>\n",
       "      <td>0.450</td>\n",
       "      <td>3.826</td>\n",
       "    </tr>\n",
       "    <tr>\n",
       "      <th>8</th>\n",
       "      <td>0.501</td>\n",
       "      <td>1.048</td>\n",
       "    </tr>\n",
       "    <tr>\n",
       "      <th>9</th>\n",
       "      <td>0.526</td>\n",
       "      <td>5.553</td>\n",
       "    </tr>\n",
       "    <tr>\n",
       "      <th>...</th>\n",
       "      <td>...</td>\n",
       "      <td>...</td>\n",
       "    </tr>\n",
       "    <tr>\n",
       "      <th>485</th>\n",
       "      <td>24.249</td>\n",
       "      <td>103.700</td>\n",
       "    </tr>\n",
       "    <tr>\n",
       "      <th>486</th>\n",
       "      <td>24.299</td>\n",
       "      <td>93.694</td>\n",
       "    </tr>\n",
       "    <tr>\n",
       "      <th>487</th>\n",
       "      <td>24.349</td>\n",
       "      <td>93.078</td>\n",
       "    </tr>\n",
       "    <tr>\n",
       "      <th>488</th>\n",
       "      <td>24.374</td>\n",
       "      <td>98.223</td>\n",
       "    </tr>\n",
       "    <tr>\n",
       "      <th>489</th>\n",
       "      <td>24.399</td>\n",
       "      <td>95.117</td>\n",
       "    </tr>\n",
       "  </tbody>\n",
       "</table>\n",
       "<p>451 rows × 2 columns</p>\n",
       "</div>"
      ],
      "text/plain": [
       "      speed    power\n",
       "5     0.325    4.331\n",
       "6     0.400    5.186\n",
       "7     0.450    3.826\n",
       "8     0.501    1.048\n",
       "9     0.526    5.553\n",
       "..      ...      ...\n",
       "485  24.249  103.700\n",
       "486  24.299   93.694\n",
       "487  24.349   93.078\n",
       "488  24.374   98.223\n",
       "489  24.399   95.117\n",
       "\n",
       "[451 rows x 2 columns]"
      ]
     },
     "execution_count": 13,
     "metadata": {},
     "output_type": "execute_result"
    }
   ],
   "source": [
    "# Adapted from: https://stackoverflow.com/questions/27020312/drop-row-in-pandas-dataframe-if-any-value-in-the-row-equals-zero/27020741\n",
    "df_clean = df[(df != 0).all(1)]\n",
    "df_clean"
   ]
  },
  {
   "cell_type": "code",
   "execution_count": 14,
   "metadata": {},
   "outputs": [
    {
     "data": {
      "text/plain": [
       "speed    451\n",
       "power    451\n",
       "dtype: int64"
      ]
     },
     "execution_count": 14,
     "metadata": {},
     "output_type": "execute_result"
    }
   ],
   "source": [
    "# count of rows in the cleaned data set\n",
    "df_clean.count()"
   ]
  },
  {
   "cell_type": "markdown",
   "metadata": {},
   "source": [
    "The new cleaned data set contains 451 rows of data."
   ]
  },
  {
   "cell_type": "code",
   "execution_count": 15,
   "metadata": {},
   "outputs": [
    {
     "data": {
      "text/html": [
       "<div>\n",
       "<style scoped>\n",
       "    .dataframe tbody tr th:only-of-type {\n",
       "        vertical-align: middle;\n",
       "    }\n",
       "\n",
       "    .dataframe tbody tr th {\n",
       "        vertical-align: top;\n",
       "    }\n",
       "\n",
       "    .dataframe thead th {\n",
       "        text-align: right;\n",
       "    }\n",
       "</style>\n",
       "<table border=\"1\" class=\"dataframe\">\n",
       "  <thead>\n",
       "    <tr style=\"text-align: right;\">\n",
       "      <th></th>\n",
       "      <th>speed</th>\n",
       "      <th>power</th>\n",
       "    </tr>\n",
       "  </thead>\n",
       "  <tbody>\n",
       "    <tr>\n",
       "      <th>count</th>\n",
       "      <td>451.000000</td>\n",
       "      <td>451.000000</td>\n",
       "    </tr>\n",
       "    <tr>\n",
       "      <th>mean</th>\n",
       "      <td>13.004302</td>\n",
       "      <td>53.231246</td>\n",
       "    </tr>\n",
       "    <tr>\n",
       "      <th>std</th>\n",
       "      <td>6.835979</td>\n",
       "      <td>40.522055</td>\n",
       "    </tr>\n",
       "    <tr>\n",
       "      <th>min</th>\n",
       "      <td>0.325000</td>\n",
       "      <td>0.067000</td>\n",
       "    </tr>\n",
       "    <tr>\n",
       "      <th>25%</th>\n",
       "      <td>7.344500</td>\n",
       "      <td>8.543500</td>\n",
       "    </tr>\n",
       "    <tr>\n",
       "      <th>50%</th>\n",
       "      <td>13.038000</td>\n",
       "      <td>58.168000</td>\n",
       "    </tr>\n",
       "    <tr>\n",
       "      <th>75%</th>\n",
       "      <td>18.781500</td>\n",
       "      <td>94.725500</td>\n",
       "    </tr>\n",
       "    <tr>\n",
       "      <th>max</th>\n",
       "      <td>24.399000</td>\n",
       "      <td>113.556000</td>\n",
       "    </tr>\n",
       "  </tbody>\n",
       "</table>\n",
       "</div>"
      ],
      "text/plain": [
       "            speed       power\n",
       "count  451.000000  451.000000\n",
       "mean    13.004302   53.231246\n",
       "std      6.835979   40.522055\n",
       "min      0.325000    0.067000\n",
       "25%      7.344500    8.543500\n",
       "50%     13.038000   58.168000\n",
       "75%     18.781500   94.725500\n",
       "max     24.399000  113.556000"
      ]
     },
     "execution_count": 15,
     "metadata": {},
     "output_type": "execute_result"
    }
   ],
   "source": [
    "# describe the cleaned data set\n",
    "df_clean.describe()"
   ]
  },
  {
   "cell_type": "markdown",
   "metadata": {},
   "source": [
    "### Plot the data set before and after cleaning"
   ]
  },
  {
   "cell_type": "code",
   "execution_count": 16,
   "metadata": {},
   "outputs": [
    {
     "data": {
      "text/plain": [
       "Text(0.5, 1.0, 'Data after cleaning')"
      ]
     },
     "execution_count": 16,
     "metadata": {},
     "output_type": "execute_result"
    },
    {
     "data": {
      "image/png": "[encoded data removed]",
      "text/plain": [
       "<Figure size 1152x576 with 2 Axes>"
      ]
     },
     "metadata": {
      "needs_background": "light"
     },
     "output_type": "display_data"
    }
   ],
   "source": [
    "# Set the parameters for the subplots to be created\n",
    "fig, axes = plt.subplots(1, 2, figsize=(16,8))\n",
    "\n",
    "# Plot the data set before and after cleaning for comparison purposes\n",
    "axes[0].plot(df['speed'], df['power'], '.b')\n",
    "axes[1].plot(df_clean['speed'], df_clean['power'], '.b')\n",
    "\n",
    "# Add labels \n",
    "axes[0].set_xlabel('Speed', fontsize=18)\n",
    "axes[0].set_ylabel('Power', fontsize=18)\n",
    "axes[1].set_xlabel('Speed', fontsize=18)\n",
    "axes[1].set_ylabel('Power', fontsize=18)\n",
    "\n",
    "# Add titles to subplots\n",
    "axes[0].set_title('Data before cleaning', fontsize=18)\n",
    "axes[1].set_title('Data after cleaning', fontsize=18)"
   ]
  },
  {
   "cell_type": "markdown",
   "metadata": {},
   "source": [
    "Now that the data set has been preprocessed I can proceed to research and select a suitable model for and try to traing it on the data set in this notebook."
   ]
  },
  {
   "cell_type": "markdown",
   "metadata": {},
   "source": [
    "### Section 2 - References\n",
    "\n",
    "[1] Github Ian McLoughlin; keras-neurons; https://github.com/ianmcloughlin/jupyter-teaching-notebooks/blob/master/keras-neurons.ipynb\n",
    "\n",
    "[2] Machine Learning Mastery; How to Perform Data Cleaning for Machine Learning with Python; https://machinelearningmastery.com/basic-data-cleaning-for-machine-learning/\n",
    "\n",
    "[3] Medium; Cleaning and Prepping Data with Python for Data Science — Best Practices and Helpful Packages; https://medium.com/@rrfd/cleaning-and-prepping-data-with-python-for-data-science-best-practices-and-helpful-packages-af1edfbe2a3\n",
    "\n",
    "[4] StackOverflow;Drop row in pandas dataframe if any value in the row equals zero; https://stackoverflow.com/questions/27020312/drop-row-in-pandas-dataframe-if-any-value-in-the-row-equals-zero/27020741\n",
    "\n",
    "[5] Keras; Introduction to keras for engineers; https://keras.io/getting_started/intro_to_keras_for_engineers/"
   ]
  },
  {
   "cell_type": "markdown",
   "metadata": {},
   "source": [
    "## Section 3 - Selecting a suitable model and training on the data set"
   ]
  },
  {
   "cell_type": "markdown",
   "metadata": {},
   "source": [
    "### 3.1 - Neural Networks in Keras\n",
    "\n",
    "Keras comes as part of the tensorflow machine learning installation in Python. Please see Readme file in my repository for details on installing tensorflow on your machine.\n",
    "\n",
    "Keras is a deep learning API written in Python, running on top of the machine learning platform TensorFlow. It was developed with a focus on enabling fast experimentation. Being able to go from idea to result as fast as possible is key to doing good research [3].\n",
    "\n",
    "Keras is a powerful and easy-to-use free open source Python library for developing and evaluating deep learning models. It wraps the efficient numerical computation libraries Theano and TensorFlow and allows you to define and train neural network models in just a few lines of code [6].\n",
    "\n",
    "Neural networks expect numerical inputs and so the power production dataset is ideal for working with a neural network as it has just 2 columns of numerical data. \n",
    "\n",
    "**Input variable (X) = Speed**\n",
    "\n",
    "**Output variable (y) = Power**"
   ]
  },
  {
   "cell_type": "markdown",
   "metadata": {},
   "source": [
    "#### Convert data to numpy array\n",
    "\n",
    "I will convert the data from a pandas dataframe to a numpy array in order to feed the data into keras and train a neural network. I do this below following an example from [5]:"
   ]
  },
  {
   "cell_type": "code",
   "execution_count": 17,
   "metadata": {},
   "outputs": [],
   "source": [
    "# Adapted from [5]\n",
    "# Changing pandas dataframe to numpy array\n",
    "X = df_clean.iloc[:,0].values\n",
    "y = df_clean.iloc[:,1].values"
   ]
  },
  {
   "cell_type": "code",
   "execution_count": 18,
   "metadata": {},
   "outputs": [
    {
     "data": {
      "text/plain": [
       "array([ 0.325,  0.4  ,  0.45 ,  0.501,  0.526,  0.551,  0.576,  0.626,\n",
       "        0.676,  0.701,  0.801,  0.826,  0.851,  0.926,  0.951,  0.976,\n",
       "        1.001,  1.051,  1.101,  1.151,  1.251,  1.276,  1.401,  1.426,\n",
       "        1.502,  1.652,  1.702,  1.877,  1.902,  2.177,  2.227,  2.402,\n",
       "        2.477,  2.553,  2.578,  2.703,  2.828,  2.853,  2.953,  3.003,\n",
       "        3.028,  3.053,  3.078,  3.203,  3.378,  3.403,  3.428,  3.529,\n",
       "        3.604,  3.629,  3.704,  3.729,  3.904,  3.929,  3.954,  3.979,\n",
       "        4.179,  4.304,  4.329,  4.53 ,  4.555,  4.605,  4.73 ,  4.78 ,\n",
       "        4.905,  4.93 ,  4.955,  4.98 ,  5.03 ,  5.08 ,  5.13 ,  5.18 ,\n",
       "        5.205,  5.255,  5.28 ,  5.305,  5.43 ,  5.455,  5.506,  5.631,\n",
       "        5.681,  5.706,  5.731,  5.831,  5.906,  5.956,  5.981,  6.006,\n",
       "        6.031,  6.081,  6.106,  6.131,  6.156,  6.181,  6.231,  6.356,\n",
       "        6.406,  6.456,  6.481,  6.607,  6.682,  6.732,  6.757,  6.832,\n",
       "        6.982,  7.057,  7.082,  7.157,  7.182,  7.207,  7.232,  7.257,\n",
       "        7.307,  7.382,  7.407,  7.508,  7.558,  7.608,  7.633,  7.683,\n",
       "        7.708,  7.733,  7.808,  7.833,  7.858,  7.883,  7.908,  7.933,\n",
       "        8.033,  8.083,  8.133,  8.183,  8.208,  8.308,  8.408,  8.458,\n",
       "        8.534,  8.634,  8.659,  8.684,  8.759,  8.834,  8.859,  8.884,\n",
       "        8.959,  9.209,  9.259,  9.309,  9.434,  9.535,  9.56 ,  9.61 ,\n",
       "        9.735,  9.81 ,  9.835,  9.86 ,  9.885,  9.935,  9.96 ,  9.985,\n",
       "       10.035, 10.085, 10.11 , 10.135, 10.16 , 10.185, 10.21 , 10.235,\n",
       "       10.26 , 10.285, 10.36 , 10.385, 10.485, 10.561, 10.661, 10.711,\n",
       "       10.736, 10.761, 10.886, 10.961, 10.986, 11.011, 11.036, 11.111,\n",
       "       11.161, 11.211, 11.286, 11.311, 11.336, 11.361, 11.386, 11.612,\n",
       "       11.662, 11.687, 11.737, 11.787, 11.812, 11.862, 11.937, 11.962,\n",
       "       11.987, 12.037, 12.162, 12.187, 12.212, 12.262, 12.287, 12.337,\n",
       "       12.362, 12.387, 12.412, 12.462, 12.487, 12.538, 12.563, 12.588,\n",
       "       12.613, 12.663, 12.713, 12.738, 12.788, 12.863, 12.888, 12.963,\n",
       "       12.988, 13.038, 13.263, 13.313, 13.338, 13.388, 13.438, 13.539,\n",
       "       13.564, 13.714, 13.739, 13.939, 13.964, 13.989, 14.014, 14.039,\n",
       "       14.139, 14.189, 14.264, 14.289, 14.339, 14.364, 14.389, 14.489,\n",
       "       14.54 , 14.59 , 14.615, 14.64 , 14.715, 14.74 , 14.765, 14.84 ,\n",
       "       14.865, 15.065, 15.115, 15.14 , 15.165, 15.19 , 15.215, 15.24 ,\n",
       "       15.265, 15.315, 15.34 , 15.415, 15.465, 15.49 , 15.541, 15.591,\n",
       "       15.666, 15.716, 15.741, 15.766, 15.816, 15.916, 15.991, 16.041,\n",
       "       16.066, 16.091, 16.191, 16.241, 16.291, 16.366, 16.441, 16.466,\n",
       "       16.567, 16.592, 16.617, 16.667, 16.692, 16.717, 16.792, 16.842,\n",
       "       16.917, 16.942, 16.967, 16.992, 17.017, 17.067, 17.117, 17.142,\n",
       "       17.267, 17.317, 17.342, 17.367, 17.417, 17.442, 17.467, 17.492,\n",
       "       17.518, 17.543, 17.568, 17.593, 17.618, 17.643, 17.793, 17.818,\n",
       "       17.843, 17.893, 18.043, 18.068, 18.093, 18.218, 18.268, 18.318,\n",
       "       18.368, 18.393, 18.418, 18.519, 18.544, 18.594, 18.619, 18.694,\n",
       "       18.744, 18.769, 18.794, 18.844, 18.869, 18.919, 18.944, 18.994,\n",
       "       19.044, 19.069, 19.094, 19.169, 19.194, 19.269, 19.444, 19.545,\n",
       "       19.57 , 19.595, 19.62 , 19.645, 19.67 , 19.695, 19.72 , 19.77 ,\n",
       "       19.795, 19.82 , 19.845, 19.895, 19.945, 19.97 , 20.045, 20.12 ,\n",
       "       20.145, 20.17 , 20.22 , 20.27 , 20.295, 20.32 , 20.345, 20.47 ,\n",
       "       20.521, 20.571, 20.646, 20.671, 20.771, 20.796, 20.871, 21.046,\n",
       "       21.071, 21.121, 21.321, 21.396, 21.421, 21.446, 21.471, 21.496,\n",
       "       21.622, 21.672, 21.722, 21.822, 21.847, 21.922, 22.022, 22.072,\n",
       "       22.147, 22.222, 22.247, 22.272, 22.297, 22.322, 22.347, 22.422,\n",
       "       22.472, 22.497, 22.523, 22.623, 22.673, 22.723, 22.773, 22.798,\n",
       "       22.823, 22.873, 23.023, 23.123, 23.223, 23.248, 23.273, 23.298,\n",
       "       23.323, 23.348, 23.373, 23.423, 23.473, 23.498, 23.549, 23.574,\n",
       "       23.599, 23.624, 23.699, 23.724, 23.799, 23.824, 23.849, 23.899,\n",
       "       23.949, 23.974, 24.024, 24.049, 24.174, 24.199, 24.249, 24.299,\n",
       "       24.349, 24.374, 24.399])"
      ]
     },
     "execution_count": 18,
     "metadata": {},
     "output_type": "execute_result"
    }
   ],
   "source": [
    "# X is the input (speed)\n",
    "X"
   ]
  },
  {
   "cell_type": "code",
   "execution_count": 19,
   "metadata": {},
   "outputs": [
    {
     "data": {
      "text/plain": [
       "array([4.33100e+00, 5.18600e+00, 3.82600e+00, 1.04800e+00, 5.55300e+00,\n",
       "       6.49800e+00, 5.24100e+00, 4.22000e+00, 7.97400e+00, 9.74600e+00,\n",
       "       7.27100e+00, 7.95000e-01, 7.35000e+00, 1.99600e+00, 1.60900e+00,\n",
       "       2.06400e+00, 6.51100e+00, 2.08500e+00, 1.21000e-01, 1.20800e+00,\n",
       "       3.37300e+00, 6.51000e+00, 4.15600e+00, 2.00500e+00, 5.35200e+00,\n",
       "       7.22100e+00, 2.43900e+00, 2.35900e+00, 7.04800e+00, 2.70100e+00,\n",
       "       2.86900e+00, 2.28700e+00, 6.94700e+00, 2.37000e+00, 3.16500e+00,\n",
       "       6.67000e-01, 7.55900e+00, 1.41310e+01, 2.89400e+00, 3.57800e+00,\n",
       "       2.63300e+00, 2.83600e+00, 3.06300e+00, 1.36000e+00, 4.33400e+00,\n",
       "       2.16700e+00, 6.81900e+00, 5.30000e+00, 1.53500e+00, 9.89000e+00,\n",
       "       2.27000e+00, 4.59500e+00, 4.45300e+00, 4.41500e+00, 1.32000e-01,\n",
       "       2.03000e+00, 1.03500e+00, 4.43700e+00, 1.04300e+00, 3.93400e+00,\n",
       "       6.82400e+00, 1.35920e+01, 8.20000e-01, 1.04440e+01, 7.06000e+00,\n",
       "       9.46000e-01, 1.90700e+00, 1.68100e+00, 9.51900e+00, 2.97300e+00,\n",
       "       8.62300e+00, 4.52500e+00, 9.32000e-01, 2.47800e+00, 1.13000e-01,\n",
       "       1.16640e+01, 9.29000e-01, 4.45400e+00, 3.20000e+00, 6.18400e+00,\n",
       "       3.03600e+00, 1.62600e+00, 5.63100e+00, 4.38000e+00, 1.82600e+00,\n",
       "       4.29200e+00, 2.76200e+00, 5.53900e+00, 3.91200e+00, 3.96000e+00,\n",
       "       9.97000e-01, 1.08640e+01, 2.23600e+00, 5.34700e+00, 6.49100e+00,\n",
       "       5.84200e+00, 6.44600e+00, 3.51000e+00, 1.02620e+01, 5.68200e+00,\n",
       "       1.00440e+01, 9.07900e+00, 1.53000e+00, 8.61600e+00, 4.18700e+00,\n",
       "       1.48500e+00, 9.77900e+00, 7.97300e+00, 6.70000e-02, 8.23800e+00,\n",
       "       9.40600e+00, 5.25200e+00, 4.24300e+00, 4.59700e+00, 3.12200e+00,\n",
       "       9.03400e+00, 6.85300e+00, 8.47100e+00, 1.47880e+01, 7.24500e+00,\n",
       "       1.02970e+01, 4.44300e+00, 1.31420e+01, 1.13210e+01, 9.38500e+00,\n",
       "       5.94700e+00, 1.45110e+01, 5.69600e+00, 6.98300e+00, 5.38500e+00,\n",
       "       1.17490e+01, 7.83000e+00, 7.78500e+00, 9.81200e+00, 6.65600e+00,\n",
       "       3.00000e+00, 1.14220e+01, 1.31130e+01, 1.64130e+01, 9.42000e+00,\n",
       "       8.93700e+00, 1.07600e+01, 1.41600e+01, 1.66970e+01, 5.55400e+00,\n",
       "       1.11200e+01, 1.37740e+01, 1.28810e+01, 1.80360e+01, 1.80420e+01,\n",
       "       9.91100e+00, 1.40550e+01, 1.73930e+01, 2.41640e+01, 1.53940e+01,\n",
       "       1.48450e+01, 2.71360e+01, 1.37840e+01, 1.36570e+01, 1.93540e+01,\n",
       "       1.61390e+01, 2.07090e+01, 2.64270e+01, 1.26240e+01, 1.64740e+01,\n",
       "       2.23050e+01, 2.07040e+01, 3.03410e+01, 2.42930e+01, 2.06360e+01,\n",
       "       2.81810e+01, 2.22160e+01, 1.35200e+01, 2.27580e+01, 2.69270e+01,\n",
       "       2.49420e+01, 1.56380e+01, 2.36880e+01, 3.04830e+01, 3.11530e+01,\n",
       "       2.76880e+01, 2.84520e+01, 2.82210e+01, 3.13360e+01, 2.96010e+01,\n",
       "       3.15300e+01, 3.46930e+01, 4.02240e+01, 3.35890e+01, 3.81840e+01,\n",
       "       3.86360e+01, 3.12140e+01, 4.14860e+01, 4.24850e+01, 3.85520e+01,\n",
       "       3.67870e+01, 3.18400e+01, 4.16920e+01, 5.16810e+01, 3.72940e+01,\n",
       "       4.72680e+01, 3.95840e+01, 4.15990e+01, 4.50560e+01, 4.31980e+01,\n",
       "       4.61360e+01, 4.34540e+01, 4.72820e+01, 4.05190e+01, 3.71590e+01,\n",
       "       5.29520e+01, 4.47450e+01, 4.47350e+01, 4.48010e+01, 4.23360e+01,\n",
       "       5.40790e+01, 5.14710e+01, 4.48800e+01, 5.11490e+01, 4.73440e+01,\n",
       "       5.06580e+01, 4.77870e+01, 5.39540e+01, 5.32810e+01, 4.97960e+01,\n",
       "       5.81680e+01, 6.28300e+01, 5.97350e+01, 6.45410e+01, 6.23150e+01,\n",
       "       6.56050e+01, 6.58890e+01, 6.33830e+01, 6.11270e+01, 6.32650e+01,\n",
       "       6.39100e+01, 6.82320e+01, 6.55960e+01, 6.92400e+01, 6.65500e+01,\n",
       "       6.65960e+01, 6.72630e+01, 6.75120e+01, 6.86160e+01, 6.56420e+01,\n",
       "       7.65510e+01, 6.42210e+01, 7.17630e+01, 7.36520e+01, 6.72690e+01,\n",
       "       7.20160e+01, 7.95860e+01, 7.84990e+01, 6.96990e+01, 8.21470e+01,\n",
       "       7.54660e+01, 7.21350e+01, 7.39110e+01, 7.82840e+01, 7.77250e+01,\n",
       "       6.92480e+01, 7.71640e+01, 8.01830e+01, 7.17870e+01, 8.03900e+01,\n",
       "       8.72300e+01, 7.89870e+01, 8.32510e+01, 8.04180e+01, 7.85280e+01,\n",
       "       8.58910e+01, 8.12390e+01, 8.62880e+01, 8.72850e+01, 7.97200e+01,\n",
       "       8.41330e+01, 8.77410e+01, 7.89910e+01, 7.89940e+01, 7.86320e+01,\n",
       "       8.66110e+01, 9.04120e+01, 8.51730e+01, 8.71920e+01, 8.59990e+01,\n",
       "       8.80420e+01, 8.91340e+01, 9.65920e+01, 8.76630e+01, 9.29970e+01,\n",
       "       9.72740e+01, 9.27530e+01, 8.95270e+01, 9.36980e+01, 9.01710e+01,\n",
       "       9.75320e+01, 9.07610e+01, 9.49250e+01, 9.55930e+01, 9.18080e+01,\n",
       "       9.14910e+01, 9.40930e+01, 9.12700e+01, 9.56220e+01, 1.00831e+02,\n",
       "       9.69700e+01, 8.96130e+01, 9.12060e+01, 9.53960e+01, 8.55330e+01,\n",
       "       1.00889e+02, 9.11250e+01, 8.77310e+01, 9.04350e+01, 8.95690e+01,\n",
       "       9.01420e+01, 9.33800e+01, 1.02322e+02, 1.00429e+02, 9.31050e+01,\n",
       "       9.12700e+01, 9.05460e+01, 9.14900e+01, 9.74270e+01, 8.97890e+01,\n",
       "       8.79800e+01, 9.07510e+01, 9.90900e+01, 9.85400e+01, 9.88550e+01,\n",
       "       9.92140e+01, 9.37690e+01, 1.04161e+02, 1.00485e+02, 9.92420e+01,\n",
       "       9.60580e+01, 9.66420e+01, 1.02440e+02, 9.60540e+01, 9.26550e+01,\n",
       "       8.79860e+01, 8.90470e+01, 9.80780e+01, 1.00142e+02, 1.02364e+02,\n",
       "       1.00287e+02, 9.71480e+01, 1.03387e+02, 1.00428e+02, 9.67250e+01,\n",
       "       1.00372e+02, 9.82720e+01, 9.48500e+01, 9.22030e+01, 9.15010e+01,\n",
       "       9.24610e+01, 9.65440e+01, 9.71730e+01, 1.03629e+02, 9.26100e+01,\n",
       "       9.47800e+01, 9.40710e+01, 1.04188e+02, 9.44890e+01, 9.94720e+01,\n",
       "       9.87900e+01, 9.96970e+01, 8.90780e+01, 9.90290e+01, 9.69630e+01,\n",
       "       1.01507e+02, 9.50120e+01, 1.07584e+02, 1.00699e+02, 1.04258e+02,\n",
       "       1.01270e+02, 9.49800e+01, 1.03405e+02, 1.12362e+02, 9.95370e+01,\n",
       "       9.63410e+01, 9.42160e+01, 1.08485e+02, 9.91030e+01, 9.63480e+01,\n",
       "       1.01212e+02, 9.86820e+01, 8.85440e+01, 1.01721e+02, 1.00937e+02,\n",
       "       9.76710e+01, 8.97130e+01, 1.03433e+02, 1.06208e+02, 9.77970e+01,\n",
       "       1.03268e+02, 1.03922e+02, 1.04052e+02, 1.04516e+02, 9.94600e+01,\n",
       "       1.02281e+02, 9.66500e+01, 9.39310e+01, 9.35670e+01, 1.01190e+02,\n",
       "       1.00206e+02, 9.78030e+01, 9.93570e+01, 1.03306e+02, 1.09932e+02,\n",
       "       9.72560e+01, 1.00558e+02, 1.00698e+02, 9.39640e+01, 1.02544e+02,\n",
       "       9.80670e+01, 1.01342e+02, 1.00549e+02, 1.01308e+02, 1.01654e+02,\n",
       "       1.02462e+02, 1.04655e+02, 1.13556e+02, 9.63370e+01, 9.82790e+01,\n",
       "       1.08167e+02, 1.04977e+02, 9.75230e+01, 9.48670e+01, 9.35270e+01,\n",
       "       9.80660e+01, 1.01120e+02, 1.00311e+02, 1.02644e+02, 9.18800e+01,\n",
       "       9.69860e+01, 9.46710e+01, 9.73340e+01, 1.00322e+02, 1.00089e+02,\n",
       "       9.53640e+01, 9.42700e+01, 1.05992e+02, 9.35240e+01, 9.58690e+01,\n",
       "       1.01419e+02, 1.03700e+02, 9.36940e+01, 9.30780e+01, 9.82230e+01,\n",
       "       9.51170e+01])"
      ]
     },
     "execution_count": 19,
     "metadata": {},
     "output_type": "execute_result"
    }
   ],
   "source": [
    "# y will be the output value (power)\n",
    "y"
   ]
  },
  {
   "cell_type": "markdown",
   "metadata": {},
   "source": [
    "Check the number of elements in each array is correct."
   ]
  },
  {
   "cell_type": "code",
   "execution_count": 20,
   "metadata": {},
   "outputs": [
    {
     "data": {
      "text/plain": [
       "451"
      ]
     },
     "execution_count": 20,
     "metadata": {},
     "output_type": "execute_result"
    }
   ],
   "source": [
    "X.size"
   ]
  },
  {
   "cell_type": "code",
   "execution_count": 21,
   "metadata": {},
   "outputs": [
    {
     "data": {
      "text/plain": [
       "451"
      ]
     },
     "execution_count": 21,
     "metadata": {},
     "output_type": "execute_result"
    }
   ],
   "source": [
    "y.size"
   ]
  },
  {
   "cell_type": "markdown",
   "metadata": {},
   "source": [
    "The data is now ready so I should proceed with training a neural network using keras."
   ]
  },
  {
   "cell_type": "markdown",
   "metadata": {},
   "source": [
    "### 3.2 - Defining a model in Keras\n",
    "\n",
    "**What is a layer and what is a model?**\n",
    "\n",
    "A \"layer\" is a simple input-output transformation. A \"model\" is a directed acyclic graph of layers. You can think of a model as a \"bigger layer\" that encompasses multiple sublayers and that can be trained via exposure to data [4].\n",
    "\n",
    "Models in Keras are defined as a sequence of layers. We create a Sequential model and add layers one at a time until we are happy with our network architecture [6].\n",
    "\n",
    "The most common and most powerful way to build Keras models is the Functional API. To build models with the Functional API, you start by specifying the shape (and optionally the dtype) of your inputs [4].\n",
    "\n",
    "Define model- Now we need a neural network model. This means we need to specify the number of hidden layers in the neural network and their size, the input and output size [5].\n",
    "\n",
    "#### Code Explained\n",
    "\n",
    "**Sequential** - let's keras know I intend to create a model sequentially with the output of each layer being the input to the nexy layer.\n",
    "\n",
    "**model.add** - adds a layer to the neural network. In my case I have just 1 layer.\n",
    "\n",
    "**Dense** - a densely connected neural network layer which takes the parameters:\n",
    "\n",
    "* output dimension - size of the output, in this case 1.\n",
    "    \n",
    "* input dimension - size of the input, again 1.\n",
    "  \n",
    "* activation function - there are a number of options such as linear, sigmoid and relu. The full list of activation functions can be viewed at [7].\n",
    "    \n",
    "* kernel-initializer -  Regularizer function applied to the kernel weights matrix [8].\n",
    "\n",
    "* bias-initializer - Regularizer function applied to the bias vector [8]\n",
    "    \n",
    "    \n",
    "**model.compile** - the model is built.\n",
    "\n",
    "* loss - We must specify the loss function to use to evaluate a set of weights [6].\n",
    "    \n",
    "* optimizer -  the optimizer is used to search through different weights for the network and any optional metrics we would like to collect and report during training [6].\n",
    "    \n",
    "    \n",
    "If adding more than one layer there is no need to specify the number of input dimensions again as the model is defined as sequential. Keras will consider the input dimension to be the same size as the output of the previous layer."
   ]
  },
  {
   "cell_type": "code",
   "execution_count": 22,
   "metadata": {},
   "outputs": [],
   "source": [
    "# Create a new neural network.\n",
    "model = kr.models.Sequential()\n",
    "\n",
    "# Add a single neuron in a single layer, initialised with weight 1 and bias 0.\n",
    "model.add(kr.layers.Dense(1, input_dim=1, activation=\"sigmoid\", kernel_initializer='ones', bias_initializer='zeros'))\n",
    "\n",
    "# Compile the model.\n",
    "model.compile(loss=\"mean_squared_error\", optimizer=\"adam\")"
   ]
  },
  {
   "cell_type": "markdown",
   "metadata": {},
   "source": [
    "You can print a summary of how your data gets transformed at each stage of the model. This is useful for debugging [4]."
   ]
  },
  {
   "cell_type": "code",
   "execution_count": 23,
   "metadata": {},
   "outputs": [
    {
     "name": "stdout",
     "output_type": "stream",
     "text": [
      "Model: \"sequential\"\n",
      "_________________________________________________________________\n",
      "Layer (type)                 Output Shape              Param #   \n",
      "=================================================================\n",
      "dense (Dense)                (None, 1)                 2         \n",
      "=================================================================\n",
      "Total params: 2\n",
      "Trainable params: 2\n",
      "Non-trainable params: 0\n",
      "_________________________________________________________________\n"
     ]
    }
   ],
   "source": [
    "model.summary()"
   ]
  },
  {
   "cell_type": "markdown",
   "metadata": {},
   "source": [
    "### 3.3 - Train the model\n",
    "\n",
    "The next step is to train your model on your data. The Model class features a built-in training loop, the fit() method. It accepts Dataset objects, Python generators that yield batches of data, or NumPy arrays [4].\n",
    "\n",
    "Besides the data, you have to specify two key parameters: the batch_size and the number of epochs (iterations on the data). Since the data yielded by a dataset is expected to be already batched, you don't need to specify the batch size here [4]."
   ]
  },
  {
   "cell_type": "code",
   "execution_count": null,
   "metadata": {},
   "outputs": [],
   "source": []
  },
  {
   "cell_type": "markdown",
   "metadata": {},
   "source": [
    "The fit() call returns a \"history\" object which records what happened over the course of training [4]."
   ]
  },
  {
   "cell_type": "code",
   "execution_count": 24,
   "metadata": {},
   "outputs": [],
   "source": [
    "# print(history.history)"
   ]
  },
  {
   "cell_type": "markdown",
   "metadata": {},
   "source": [
    "### Section 3 - References\n",
    "\n",
    "[1] Github Ian McLoughlin; keras-neurons; https://github.com/ianmcloughlin/jupyter-teaching-notebooks/blob/master/keras-neurons.ipynb\n",
    "\n",
    "[2] Github Ian McLoughlin; Linear Regression in Keras; https://github.com/ianmcloughlin/jupyter-teaching-notebooks/blob/master/keras-linear.ipynb\n",
    "\n",
    "[3] Keras; About Keras; https://keras.io/about/\n",
    "\n",
    "[4] Keras; Introduction to keras for engineers; https://keras.io/getting_started/intro_to_keras_for_engineers/\n",
    "\n",
    "[5] Towards Data Science; Building our first neural network in keras; https://towardsdatascience.com/building-our-first-neural-network-in-keras-bdc8abbc17f5\n",
    "\n",
    "[6] Machine learing mastery; Your First Deep Learning Project in Python with Keras Step-By-Step; https://machinelearningmastery.com/tutorial-first-neural-network-python-keras/\n",
    "\n",
    "[7] Keras; Layer activation functions; https://keras.io/api/layers/activations/\n",
    "\n",
    "[8] Keras; Dense layer; https://keras.io/api/layers/core_layers/dense/\n",
    "\n",
    "[9] Keras; Adam; https://keras.io/api/optimizers/adam/\n"
   ]
  },
  {
   "cell_type": "markdown",
   "metadata": {},
   "source": [
    "## End"
   ]
  }
 ],
 "metadata": {
  "kernelspec": {
   "display_name": "Python 3",
   "language": "python",
   "name": "python3"
  },
  "language_info": {
   "codemirror_mode": {
    "name": "ipython",
    "version": 3
   },
   "file_extension": ".py",
   "mimetype": "text/x-python",
   "name": "python",
   "nbconvert_exporter": "python",
   "pygments_lexer": "ipython3",
   "version": "3.8.5"
  }
 },
 "nbformat": 4,
 "nbformat_minor": 4
}
