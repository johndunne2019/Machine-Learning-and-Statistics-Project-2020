{
 "cells": [
  {
   "cell_type": "markdown",
   "metadata": {},
   "source": [
    "## Machine Learning and Statistics Module 2020 Project\n",
    "\n",
    "### Author John Dunne G00273895\n",
    "\n",
    "*****************************************************************************\n"
   ]
  },
  {
   "cell_type": "markdown",
   "metadata": {},
   "source": [
    "### Project Specification\n",
    "\n",
    "#### Instructions\n",
    "\n",
    "\n",
    "In this project you must create a web service that uses machine learning to make predictions based on the data set powerproduction available on Moodle. The goal is to\n",
    "produce a model that accurately predicts wind turbine power output from wind speed\n",
    "values, as in the data set. You must then develop a web service that will respond with\n",
    "predicted power values based on speed values sent as HTTP requests. Your submission\n",
    "must be in the form of a git repository containing, at a minimum, the following items:\n",
    "1. Jupyter notebook that trains a model using the data set. In the notebook you\n",
    "should explain your model and give an analysis of its accuracy.\n",
    "2. Python script that runs a web service based on the model, as above.\n",
    "3. Dockerfile to build and run the web service in a container.\n",
    "4. Standard items in a git repository such as a README.\n",
    "\n",
    "\n",
    "To enhance your submission, you might consider developing and comparing more than\n",
    "one model. Rest assured, all the above concepts will be explored in lecture videos and\n",
    "other materials in the coming semester.\n"
   ]
  },
  {
   "cell_type": "code",
   "execution_count": null,
   "metadata": {},
   "outputs": [],
   "source": []
  }
 ],
 "metadata": {
  "kernelspec": {
   "display_name": "Python 3",
   "language": "python",
   "name": "python3"
  },
  "language_info": {
   "codemirror_mode": {
    "name": "ipython",
    "version": 3
   },
   "file_extension": ".py",
   "mimetype": "text/x-python",
   "name": "python",
   "nbconvert_exporter": "python",
   "pygments_lexer": "ipython3",
   "version": "3.8.3"
  }
 },
 "nbformat": 4,
 "nbformat_minor": 4
}
